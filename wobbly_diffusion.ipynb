{
  "cells": [
    {
      "cell_type": "markdown",
      "metadata": {
        "id": "view-in-github",
        "colab_type": "text"
      },
      "source": [
        "<a href=\"https://colab.research.google.com/github/adrianyang2012/wobbly_diffusion/blob/main/wobbly_diffusion.ipynb\" target=\"_parent\"><img src=\"https://colab.research.google.com/assets/colab-badge.svg\" alt=\"Open In Colab\"/></a>"
      ]
    },
    {
      "cell_type": "code",
      "execution_count": null,
      "metadata": {
        "colab": {
          "base_uri": "https://localhost:8080/",
          "height": 1000
        },
        "id": "EHQMnS6txhFi",
        "outputId": "d2659772-5eb2-4e76-a7b1-c24943828434"
      },
      "outputs": [
        {
          "output_type": "stream",
          "name": "stdout",
          "text": [
            "type prompt: lemons\n",
            "how creative? 0-10: 4\n",
            "type negative prompt: dots\n",
            "type how much times: 20\n",
            "your prompt is now: lemons with no dots\n",
            "sorry no access\n",
            "sorry no access\n"
          ]
        },
        {
          "output_type": "display_data",
          "data": {
            "text/plain": [
              "<IPython.core.display.HTML object>"
            ],
            "text/html": [
              "<img alt=\"\" aria-label=\"Meadowcroft Farm Qld - Tropical Fruit Farm\" class=\"_s0 _4ooo img\" role=\"img\" src=\"https://scontent-iad3-1.xx.fbcdn.net/v/t39.30808-1/305403079_453827130113902_3715599012149251425_n.jpg?stp=cp0_dst-jpg_p56x56&amp;_nc_cat=108&amp;ccb=1-7&amp;_nc_sid=dbb9e7&amp;_nc_ohc=61ZwT53NG-sAX-e0nQU&amp;_nc_ht=scontent-iad3-1.xx&amp;oh=00_AfBGnWIshsUNRI9sxAHFUgS58gr-3B35mmVYwEn-rw48jQ&amp;oe=63C42490\" style=\"width:52px;height:52px\"/>"
            ]
          },
          "metadata": {}
        },
        {
          "output_type": "display_data",
          "data": {
            "text/plain": [
              "<IPython.core.display.HTML object>"
            ],
            "text/html": [
              "<img alt=\"screenshot of the current page\" class=\"screenshot\"/>"
            ]
          },
          "metadata": {}
        },
        {
          "output_type": "display_data",
          "data": {
            "text/plain": [
              "<IPython.core.display.HTML object>"
            ],
            "text/html": [
              "<img alt=\"Foods Guy\" data-lazy-src=\"https://foodsguy.com/wp-content/uploads/2020/03/Trying-middle-size.png\" height=\"123\" src=\"data:image/svg+xml,%3Csvg%20xmlns='http://www.w3.org/2000/svg'%20viewBox='0%200%20400%20123'%3E%3C/svg%3E\" width=\"400\"/>"
            ]
          },
          "metadata": {}
        },
        {
          "output_type": "stream",
          "name": "stdout",
          "text": [
            "sorry no access\n"
          ]
        },
        {
          "output_type": "display_data",
          "data": {
            "text/plain": [
              "<IPython.core.display.HTML object>"
            ],
            "text/html": [
              "<img alt=\"\" height=\"1\" src=\"https://ct.pinterest.com/v3/?event=init&amp;tid=2614219270185&amp;pd[em]=&lt;hashed_email_address&gt;&amp;noscript=1\" style=\"display:none;\" width=\"1\"/>"
            ]
          },
          "metadata": {}
        },
        {
          "output_type": "display_data",
          "data": {
            "text/plain": [
              "<IPython.core.display.HTML object>"
            ],
            "text/html": [
              "<img alt=\"\" class=\"menu-icon\" loading=\"lazy\" src=\"https://assets.website-files.com/625ef66b50ce1b86a5f2c572/632b1c109aa8a0c831c0a4cc_icon--menu__open.svg\"/>"
            ]
          },
          "metadata": {}
        },
        {
          "output_type": "display_data",
          "data": {
            "text/plain": [
              "<IPython.core.display.HTML object>"
            ],
            "text/html": [
              "<img alt=\"Tasting Table\" height=\"34\" src=\"https://www.tastingtable.com/img/Tasting-Table-Full-Logo-Light.svg\" width=\"184\"/>"
            ]
          },
          "metadata": {}
        },
        {
          "output_type": "stream",
          "name": "stdout",
          "text": [
            "sorry no access\n"
          ]
        },
        {
          "output_type": "display_data",
          "data": {
            "text/plain": [
              "<IPython.core.display.HTML object>"
            ],
            "text/html": [
              "<img alt=\"\" onload=\"(__markFirstPostVisible || function(){})();\" src=\"https://www.redditstatic.com/desktop2x/img/renderTimingPixel.png\" style=\"width: 1px; height: 1px;\"/>"
            ]
          },
          "metadata": {}
        },
        {
          "output_type": "display_data",
          "data": {
            "text/plain": [
              "<IPython.core.display.HTML object>"
            ],
            "text/html": [
              "<img alt=\"Fresh lime and lemon with green leaf isolated on a white background royalty free stock images\" class=\"dt-image lazy\" data-src=\"https://thumbs.dreamstime.com/b/fresh-lime-lemon-green-leaf-isolated-white-fresh-lime-lemon-green-leaf-isolated-white-background-168585869.jpg\" data-urt=\"-1\" src=\"data:image/gif;base64,R0lGODlhAQABAIAAAAAAAP///yH5BAEAAAAALAAAAAABAAEAAAIBRAA7\" title=\"Fresh lime and lemon with green leaf isolated on a white background royalty free stock images\"/>"
            ]
          },
          "metadata": {}
        },
        {
          "output_type": "display_data",
          "data": {
            "text/plain": [
              "<IPython.core.display.HTML object>"
            ],
            "text/html": [
              "<img alt=\"\" src=\"https://images.food52.com/c5wtMMNeZEze7wzfX-fSwQew9JU=/29921ba7-7b5f-4465-b8e4-a489b3a02e53--8488919887_ac4a732f59_o.jpg\"/>"
            ]
          },
          "metadata": {}
        },
        {
          "output_type": "display_data",
          "data": {
            "text/plain": [
              "<IPython.core.display.HTML object>"
            ],
            "text/html": [
              "<img alt=\"\" class=\"m-PromoItem__a-Image a-Image\" src=\"//hgtvhome.sndimg.com/content/dam/images/hgtv/fullset/2022/11/10/0/dh23_front-yard-whole-house-high-DJI_0051_h.jpg.rend.hgtvcom.196.196.suffix/1668096839674.jpeg\"/>"
            ]
          },
          "metadata": {}
        },
        {
          "output_type": "display_data",
          "data": {
            "text/plain": [
              "<IPython.core.display.HTML object>"
            ],
            "text/html": [
              "<img alt=\"Yellow ripe pears stock images\" class=\"dt-image lazy\" data-src=\"https://thumbs.dreamstime.com/b/yellow-ripe-pears-five-white-background-36154334.jpg\" data-urt=\"-1\" src=\"data:image/gif;base64,R0lGODlhAQABAIAAAAAAAP///yH5BAEAAAAALAAAAAABAAEAAAIBRAA7\" title=\"Yellow ripe pears stock images\"/>"
            ]
          },
          "metadata": {}
        },
        {
          "output_type": "stream",
          "name": "stdout",
          "text": [
            "sorry no access\n"
          ]
        },
        {
          "output_type": "display_data",
          "data": {
            "text/plain": [
              "<IPython.core.display.HTML object>"
            ],
            "text/html": [
              "<img class=\"css-1jytyml\" src=\"//i0.wp.com/images-prod.healthline.com/hlcmsresource/images/AN_images/lemons-1296x728-feature.jpg?w=1155&amp;h=1528\"/>"
            ]
          },
          "metadata": {}
        },
        {
          "output_type": "stream",
          "name": "stdout",
          "text": [
            "sorry no access\n"
          ]
        },
        {
          "output_type": "display_data",
          "data": {
            "text/plain": [
              "<IPython.core.display.HTML object>"
            ],
            "text/html": [
              "<img alt=\"\" class=\"avatar wp-image-88164\" height=\"150\" sizes=\"(max-width: 150px) 100vw, 150px\" src=\"https://lilluna.com/wp-content/uploads/2017/10/kara-cook-150x150.jpg\" srcset=\"https://lilluna.com/wp-content/uploads/2017/10/kara-cook-150x150.jpg 150w, https://lilluna.com/wp-content/uploads/2017/10/kara-cook-48x48.jpg 48w, https://lilluna.com/wp-content/uploads/2017/10/kara-cook-300x300.jpg 300w, https://lilluna.com/wp-content/uploads/2017/10/kara-cook-250x252.jpg 250w, https://lilluna.com/wp-content/uploads/2017/10/kara-cook.jpg 317w\" width=\"150\"/>"
            ]
          },
          "metadata": {}
        },
        {
          "output_type": "display_data",
          "data": {
            "text/plain": [
              "<IPython.core.display.HTML object>"
            ],
            "text/html": [
              "<img alt=\"Lemon Girl Planner - Soft Leather Cover - A5 magnetic buckle Cute notebooks  - 228 Pages - Bullet Journal - no lines no dots\" class=\"product-gallery--loaded-image\" data-rimg=\"noscript\" src=\"//cdn.shopify.com/s/files/1/0488/0010/4606/products/il_fullxfull.3352851787_l38w_700x700.jpg?v=1650691822\" srcset=\"//cdn.shopify.com/s/files/1/0488/0010/4606/products/il_fullxfull.3352851787_l38w_700x700.jpg?v=1650691822 1x, //cdn.shopify.com/s/files/1/0488/0010/4606/products/il_fullxfull.3352851787_l38w_798x798.jpg?v=1650691822 1.14x\"/>"
            ]
          },
          "metadata": {}
        }
      ],
      "source": [
        "import googlesearch\n",
        "import cv2 as cv\n",
        "from IPython.display import SVG, display, HTML\n",
        "import requests\n",
        "import bs4\n",
        "from google.colab.patches import cv2_imshow # for image display\n",
        "import io\n",
        "stopwords = [\"a\", \"about\", \"above\", \"after\", \"again\", \"against\", \"all\", \"am\", \"an\", \"and\", \"any\", \"are\", \"aren't\", \"as\", \"at\", \"be\", \"because\", \"been\", \"before\", \"being\", \"below\", \"between\", \"both\", \"but\", \"by\", \"can't\", \"cannot\", \"could\", \"couldn't\", \"did\", \"didn't\", \"do\", \"does\", \"doesn't\", \"doing\", \"don't\", \"down\", \"during\", \"each\", \"few\", \"for\", \"from\", \"further\", \"had\", \"hadn't\", \"has\", \"hasn't\", \"have\", \"haven't\", \"having\", \"he\", \"he'd\", \"he'll\", \"he's\", \"her\", \"here\", \"here's\", \"hers\", \"herself\", \"him\", \"himself\", \"his\", \"how\", \"how's\", \"i\", \"i'd\", \"i'll\", \"i'm\", \"i've\", \"if\", \"in\", \"into\", \"is\", \"isn't\", \"it\", \"it's\", \"its\", \"itself\", \"let's\", \"me\", \"more\", \"most\", \"mustn't\", \"my\", \"myself\", \"no\", \"nor\", \"not\", \"of\", \"off\", \"on\", \"once\", \"only\", \"or\", \"other\", \"ought\", \"our\", \"ours    ourselves\", \"out\", \"over\", \"own\", \"same\", \"shan't\", \"she\", \"she'd\", \"she'll\", \"she's\", \"should\", \"shouldn't\", \"so\", \"some\", \"such\", \"than\", \"that\", \"that's\", \"the\", \"their\", \"theirs\", \"them\", \"themselves\", \"then\", \"there\", \"there's\", \"these\", \"they\", \"they'd\", \"they'll\", \"they're\", \"they've\", \"this\", \"those\", \"through\", \"to\", \"too\", \"under\", \"until\", \"up\", \"very\", \"was\", \"wasn't\", \"we\", \"we'd\", \"we'll\", \"we're\", \"we've\", \"were\", \"weren't\", \"what\", \"what's\", \"when\", \"when's\", \"where\", \"where's\", \"which\", \"while\", \"who\", \"who's\", \"whom\", \"why\", \"why's\", \"with\", \"won't\", \"would\", \"wouldn't\", \"you\", \"you'd\", \"you'll\", \"you're\", \"you've\", \"your\", \"yours\", \"yourself\", \"yourselves\"]\n",
        "\n",
        "a = input('type prompt: ')\n",
        "d = int(input('how creative? 0-10: '))\n",
        "\n",
        "a_new= a.split(' ')\n",
        "if d > 6:\n",
        "  for item in a_new:\n",
        "    if item in stopwords:\n",
        "      a_new.remove(item)\n",
        "if d > 9:\n",
        "  a_new = a_new[:3]\n",
        "a = ' '.join(a_new)\n",
        "\n",
        "c = input('type negative prompt: ')\n",
        "if c:\n",
        "  a += ' with no '+c\n",
        "b = int(input('type how much times: '))\n",
        "from skimage import io\n",
        "\n",
        "\n",
        "print(f\"your prompt is now: {a}\")\n",
        "im = googlesearch.search_images(a)\n",
        "debug_thing = False\n",
        "for i in range(0,b):\n",
        "  img =  next(im)\n",
        "  if debug_thing:\n",
        "    print('[this is debug thingy]-->',img)\n",
        "  try:\n",
        "    page = requests.get(img)\n",
        "    \n",
        "    page.raise_for_status()\n",
        "    content = bs4.BeautifulSoup(page.text, 'html.parser')\n",
        "    try:\n",
        "      try:\n",
        "        images = [img for img in content.find_all('img')][1]\n",
        "      except:\n",
        "        images = [img for img in content.find_all('img')][0]\n",
        "      display(HTML(str(images)))\n",
        "    except:\n",
        "      print('bug with googlesearch')\n",
        "  except:\n",
        "    print('sorry no access')\n",
        "    \n",
        "   \n",
        "\n",
        " \n"
      ]
    },
    {
      "cell_type": "code",
      "source": [
        "[1,2,3][:99]"
      ],
      "metadata": {
        "colab": {
          "base_uri": "https://localhost:8080/"
        },
        "id": "hZYj2fGnTVg7",
        "outputId": "436d9925-91bc-45fd-c542-b8af4252ef2c"
      },
      "execution_count": null,
      "outputs": [
        {
          "output_type": "execute_result",
          "data": {
            "text/plain": [
              "[1, 2, 3]"
            ]
          },
          "metadata": {},
          "execution_count": 2
        }
      ]
    }
  ],
  "metadata": {
    "colab": {
      "provenance": [],
      "authorship_tag": "ABX9TyNaFVRRzeRjKEfp5oKXDuLo",
      "include_colab_link": true
    },
    "gpuClass": "standard",
    "kernelspec": {
      "display_name": "Python 3",
      "name": "python3"
    },
    "language_info": {
      "name": "python"
    }
  },
  "nbformat": 4,
  "nbformat_minor": 0
}